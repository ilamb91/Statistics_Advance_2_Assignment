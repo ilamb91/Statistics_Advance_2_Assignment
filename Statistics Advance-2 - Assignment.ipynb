{
 "cells": [
  {
   "cell_type": "markdown",
   "id": "3d9bf75d-ff9c-4f62-b08d-3173bc83edf2",
   "metadata": {},
   "source": [
    "# Q1: What are the Probability Mass Function (PMF) and Probability Density Function (PDF)? Explain with an example."
   ]
  },
  {
   "cell_type": "markdown",
   "id": "15122d4a-54cc-4482-af5f-9f0084b521ad",
   "metadata": {},
   "source": [
    "A1: \n",
    "# Probability Mass Function (PMF)\n",
    "- The Probability Mass function is defined on all the values of R, where it takes all the arguments of any real number. It doesn’t belong to the value of X when the argument value equals to zero and when the argument belongs to x, the value of PMF should be positive.\n",
    "\n",
    "- The probability mass function is usually the primary component of defining a discrete probability distribution, but it differs from the probability density function (PDF) where it produces distinct outcomes. This is the reason why probability mass function is used in computer programming and statistical modelling.\n",
    "\n",
    "# Probability Density Function (PDF)\n",
    "- In probability theory, a probability density function (PDF) is used to define the random variable’s probability coming within a distinct range of values, as opposed to taking on any one value. The function explains the probability density function of normal distribution and how mean and deviation exists.\n",
    "- The Probability Density Function(PDF) defines the probability function representing the density of a continuous random variable lying between a specific range of values. In other words, the probability density function produces the likelihood of values of the continuous random variable. Sometimes it is also called a probability distribution function or just a probability function."
   ]
  },
  {
   "cell_type": "markdown",
   "id": "95f0842d-b6fb-47e3-a973-398ddc096093",
   "metadata": {},
   "source": [
    "# Q2: What is Cumulative Density Function (CDF)? Explain with an example. Why CDF is used?"
   ]
  },
  {
   "cell_type": "markdown",
   "id": "817eaff0-5b49-496b-becd-0716ff5aa525",
   "metadata": {},
   "source": [
    "A2 : The Cumulative Distribution Function (CDF), of a real-valued random variable X, evaluated at x, is the probability function that X will take a value less than or equal to x. It is used to describe the probability distribution of random variables in a table. And with the help of these data, we can easily create a CDF plot in an excel sheet.\n",
    "\n",
    "- In other words, CDF finds the cumulative probability for the given value. To determine the probability of a random variable, it is used and also to compare the probability between values under certain conditions. For discrete distribution functions, CDF gives the probability values till what we specify and for continuous distribution functions, it gives the area under the probability density function up to the given value specified.\n",
    "\n",
    "- The cumulative distribution function (CDF) calculates the cumulative probability for a given x-value. Use the CDF to determine the likelihood that a random observation taken from the population will be less than or equal to a particular value."
   ]
  },
  {
   "cell_type": "markdown",
   "id": "92112632-c2ed-4387-b8ff-f1c3ebbd9fd2",
   "metadata": {},
   "source": [
    "# Q3: What are some examples of situations where the normal distribution might be used as a model? Explain how the parameters of the normal distribution relate to the shape of the distribution."
   ]
  },
  {
   "cell_type": "markdown",
   "id": "9cdd164b-f039-4c4d-91e9-fbbd27368dad",
   "metadata": {},
   "source": [
    "A3 : Characteristics that are the sum of many independent processes frequently follow normal distributions. For example, heights, blood pressure, measurement error, and IQ scores follow the normal distribution.\n",
    "- The two main parameters of a (normal) distribution are the mean and standard deviation. The parameters determine the shape and probabilities of the distribution. The shape of the distribution changes as the parameter values change."
   ]
  },
  {
   "cell_type": "markdown",
   "id": "e7c3ac7c-e9f0-43bf-a9a5-7b1b8bdc95d9",
   "metadata": {},
   "source": [
    "# Q4: Explain the importance of Normal Distribution. Give a few real-life examples of Normal Distribution."
   ]
  },
  {
   "cell_type": "markdown",
   "id": "fe4073c4-8c3a-44df-9a62-a5f38f70bdf3",
   "metadata": {},
   "source": [
    "A4: One reason the normal distribution is important is that many psychological and educational variables are distributed approximately normally. Measures of reading ability, introversion, job satisfaction, and memory are among the many psychological variables approximately normally distributed. Although the distributions are only approximately normal, they are usually quite close. A second reason the normal distribution is so important is that it is easy for mathematical statisticians to work with. This means that many kinds of statistical tests can be derived for normal distributions. Almost all statistical tests discussed in this text assume normal distributions. Fortunately, these tests work very well even if the distribution is only approximately normally distributed. Some tests work well even with very wide deviations from normality. Finally, if the mean and standard deviation of a normal distribution are known, it is easy to convert back and forth from raw scores to percentiles.\n",
    "\n",
    "Real life example of Normal Distribution.\n",
    "\n",
    "1. Height\n",
    "- The height of people is an example of normal distribution. Most of the people in a specific population are of average height. The number of people taller and shorter than the average height people is almost equal, and a very small number of people are either extremely tall or extremely short. Several genetic and environmental factors influence height. Therefore, it follows the normal distribution.\n",
    "\n",
    "2. Rolling A Dice\n",
    "- A fair rolling of dice is also a good example of normal distribution. In an experiment, it has been found that when a dice is rolled 100 times, chances to get ‘1’ are 15-18% and if we roll the dice 1000 times, the chances to get ‘1’ is, again, the same, which averages to 16.7% (1/6). If we roll two dice simultaneously, there are 36 possible combinations. The probability of rolling ‘1’ (with six possible combinations) again averages to around 16.7%, i.e., (6/36). More the number of dice more elaborate will be the normal distribution graph.\n",
    "\n",
    "3. Technical Stock Market\n",
    "- Most of us have heard about the rise and fall in the prices of shares in the stock market. These changes in the log values of Forex rates, price indices, and stock prices return often form a bell-shaped curve. For stock returns, the standard deviation is often called volatility. If returns are normally distributed, more than 99 percent of the returns are expected to fall within the deviations of the mean value. Such characteristics of the bell-shaped normal distribution allow analysts and investors to make statistical inferences about the expected return and risk of stocks.\n",
    "\n",
    "4. Blood Pressure\n",
    "- Blood pressure generally follows a Gaussian distribution (normal) in the general population, and it makes Gaussian mixture models a suitable candidate for modelling blood pressure behaviour."
   ]
  },
  {
   "cell_type": "markdown",
   "id": "cd50ef56-7322-463c-b4c0-4cc9871b3fcc",
   "metadata": {},
   "source": [
    "# Q5: What is Bernaulli Distribution? Give an Example. What is the difference between Bernoulli Distribution and Binomial Distribution?"
   ]
  },
  {
   "cell_type": "markdown",
   "id": "0fab7c61-21c8-4722-9974-5fd40af85457",
   "metadata": {},
   "source": [
    "A5 : A Bernoulli distribution is a discrete probability distribution for a Bernoulli trial — a random experiment that has only two outcomes (usually called a “Success” or a “Failure”). \n",
    "- For example, the probability of getting a heads (a “success”) while flipping a coin is 0.5. The probability of “failure” is 1 – P (1 minus the probability of success, which also equals 0.5 for a coin toss). It is a special case of the binomial distribution for n = 1. In other words, it is a binomial distribution with a single trial (e.g. a single coin toss).\n",
    "\n",
    "# Binomial VS Bernoulli Keypoints!\n",
    "- Bernoulli deals with the outcome of the single trial of the event, whereas Binomial deals with the outcome of the multiple trials of the single event.\n",
    "- Bernoulli is used when the outcome of an event is required for only one time, whereas the Binomial is used when the outcome of an event is required multiple times."
   ]
  },
  {
   "cell_type": "markdown",
   "id": "d68857f4-a538-470f-97fa-4d397ee63747",
   "metadata": {},
   "source": [
    "# Q6. Consider a dataset with a mean of 50 and a standard deviation of 10. If we assume that the dataset is normally distributed, what is the probability that a randomly selected observation will be greater than 60? Use the appropriate formula and show your calculations."
   ]
  },
  {
   "cell_type": "markdown",
   "id": "bf247710-b4ee-4b91-ad6d-e5061bad2d44",
   "metadata": {},
   "source": [
    "A6 : Areas under portions of a normal distribution can be computed by using calculus. Since this is a non-mathematical treatment of statistics, we will rely on computer programs and tables to determine these areas. Figure shows a normal distribution with a mean of 50 and a standard deviation of 10. The shaded area between 40 and 60 contains 68% of the distribution."
   ]
  },
  {
   "attachments": {
    "dfb84ede-f325-4d60-a3ac-df0a42ebbf6b.png": {
     "image/png": "[encoded data removed]"
    }
   },
   "cell_type": "markdown",
   "id": "af7bc1df-4ff7-4ca6-87df-eef022dd8fc0",
   "metadata": {},
   "source": [
    "![image.png](attachment:dfb84ede-f325-4d60-a3ac-df0a42ebbf6b.png)"
   ]
  },
  {
   "cell_type": "markdown",
   "id": "24336953-ca29-4f73-8ac7-e28f9872a7d0",
   "metadata": {},
   "source": [
    "Normal distribution with a mean of 50 and standard deviation of 10. 68% of the area is within one standard deviation (10) of the mean (50)."
   ]
  },
  {
   "cell_type": "markdown",
   "id": "f7b4c941-a5ee-4cb7-9f0d-f7b73493cf2c",
   "metadata": {},
   "source": [
    "# Q7: Explain uniform Distribution with an example."
   ]
  },
  {
   "cell_type": "markdown",
   "id": "556acd1f-8914-462a-b1dc-c18e6de7f311",
   "metadata": {},
   "source": [
    "A7 : In statistics, uniform distribution refers to a type of probability distribution in which all outcomes are equally likely. A deck of cards has within it uniform distributions because the likelihood of drawing a heart, a club, a diamond, or a spade is equally likely. A coin also has a uniform distribution because the probability of getting either heads or tails in a coin toss is the same.\n",
    "- Example : In uniform distribution, organisms are spread out in a fairly regular pattern. This occurs often where individuals must compete for a limiting resource, such as water or light. Desert shrubs and redwood trees grow in a uniform distribution—shrubs compete for water, while redwoods compete for light."
   ]
  },
  {
   "cell_type": "markdown",
   "id": "4b9ab470-9c52-4211-8f4e-f90708ec664b",
   "metadata": {},
   "source": [
    "# Q8: What is the z score? State the importance of the z score."
   ]
  },
  {
   "cell_type": "markdown",
   "id": "b6944ae4-628b-47a2-8780-bce1ce034a1f",
   "metadata": {},
   "source": [
    "A8 : A measure of how many standard deviations below or above the population mean a raw score is called z score. It will be positive if the value lies above the mean and negative if it lies below the mean. It is also known as standard score. It indicates how many standard deviations an entity is, from the mean. In order to use a z-score, the mean μ and also the population standard deviation σ should be known. A z score helps to calculate the probability of a score occurring within a standard normal distribution. It also enables us to compare two scores that are from different samples. A table for the values of ϕ, indicating the values of the cumulative distribution function of the normal distribution is termed as a z score table.\n",
    "\n",
    "- Importance of the z score\n",
    "- Understand where a data point fits into a distribution.\n",
    "- Compare observations between dissimilar variables.\n",
    "- Identify outliers.\n",
    "- Calculate probabilities and percentiles using the standard normal distribution."
   ]
  },
  {
   "cell_type": "markdown",
   "id": "d1273ff5-b60f-406b-8c5f-ca98e36f4c51",
   "metadata": {},
   "source": [
    "# Q9: What is Central Limit Theorem? State the significance of the Central Limit Theorem."
   ]
  },
  {
   "cell_type": "markdown",
   "id": "c03029d0-ed3d-437f-bf85-76f060c4ccb4",
   "metadata": {},
   "source": [
    "A9 : The central limit theorem, which is a statistical theory, states that when a large sample size has a finite variance, the samples will be normally distributed, and the mean of samples will be approximately equal to the mean of the whole population.\n",
    "- The central limit theorem states that whenever a random sample of size n is taken from any distribution with mean and variance, then the sample mean will be approximately a normal distribution with mean and variance. The larger the value of the sample size, the better the approximation of the normal.\n",
    "- The central limit theorem is useful when analyzing large data sets because it allows one to assume that the sampling distribution of the mean will be normally-distributed in most cases. This allows for easier statistical analysis and inference. For example, investors can use central limit theorem to aggregate individual security performance data and generate distribution of sample means that represent a larger population distribution for security returns over a period of time."
   ]
  },
  {
   "cell_type": "markdown",
   "id": "e0d4c4a6-5564-4928-a259-f86a55e48f56",
   "metadata": {},
   "source": [
    "# Q10: State the assumptions of the Central Limit Theorem."
   ]
  },
  {
   "cell_type": "markdown",
   "id": "bdfca1fe-634d-4a67-a6e7-d88602ff9e32",
   "metadata": {},
   "source": [
    "A10 : The data must adhere to the randomization rule. It needs to be sampled at random.\n",
    "- The samples should be unrelated to one another. One sample should not impact the others.\n",
    "- When taking samples without replacement, the sample size should not exceed 10% of the population.\n",
    "- When the population is symmetric, a sample size of 30 is generally considered reasonable. "
   ]
  },
  {
   "cell_type": "code",
   "execution_count": null,
   "id": "96736d5d-9557-43fa-b0f9-13cd6ee6983d",
   "metadata": {},
   "outputs": [],
   "source": []
  }
 ],
 "metadata": {
  "kernelspec": {
   "display_name": "Python 3 (ipykernel)",
   "language": "python",
   "name": "python3"
  },
  "language_info": {
   "codemirror_mode": {
    "name": "ipython",
    "version": 3
   },
   "file_extension": ".py",
   "mimetype": "text/x-python",
   "name": "python",
   "nbconvert_exporter": "python",
   "pygments_lexer": "ipython3",
   "version": "3.10.8"
  }
 },
 "nbformat": 4,
 "nbformat_minor": 5
}
